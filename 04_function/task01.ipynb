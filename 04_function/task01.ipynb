{
 "cells": [
  {
   "cell_type": "code",
   "execution_count": 4,
   "id": "e908ae11",
   "metadata": {},
   "outputs": [
    {
     "name": "stdout",
     "output_type": "stream",
     "text": [
      "ユーザー名は有効です\n",
      "エラー: ユーザー名は5文字以上15文字以内で入力してください\n",
      "不正なユーザー名です\n",
      "エラー: ユーザー名は英数字のみで入力してください\n",
      "不正なユーザー名です\n",
      "エラー: ユーザー名に空白を含めることはできません\n",
      "不正なユーザー名です\n"
     ]
    }
   ],
   "source": [
    "def validation(name):\n",
    "    if not (15 >= len(name) >= 5):\n",
    "        print(\"エラー: ユーザー名は5文字以上15文字以内で入力してください\")\n",
    "        return False\n",
    "    if \" \" in name:\n",
    "        print(\"エラー: ユーザー名に空白を含めることはできません\")\n",
    "        return False\n",
    "    if not name.isalnum():\n",
    "        print(\"エラー: ユーザー名は英数字のみで入力してください\")\n",
    "        return False\n",
    "    return True\n",
    "\n",
    "def validate_user_name(name):\n",
    "    if validation(name):\n",
    "        print(\"ユーザー名は有効です\")\n",
    "    else:\n",
    "        print(\"不正なユーザー名です\")\n",
    "\n",
    "validate_user_name(\"JohnDoe123\")\n",
    "\n",
    "validate_user_name(\"JD\")\n",
    "\n",
    "validate_user_name(\"John@Doe\")\n",
    "\n",
    "validate_user_name(\"John Doe\")"
   ]
  }
 ],
 "metadata": {
  "kernelspec": {
   "display_name": ".venv",
   "language": "python",
   "name": "python3"
  },
  "language_info": {
   "codemirror_mode": {
    "name": "ipython",
    "version": 3
   },
   "file_extension": ".py",
   "mimetype": "text/x-python",
   "name": "python",
   "nbconvert_exporter": "python",
   "pygments_lexer": "ipython3",
   "version": "3.12.10"
  }
 },
 "nbformat": 4,
 "nbformat_minor": 5
}
