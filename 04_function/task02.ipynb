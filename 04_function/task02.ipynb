{
 "cells": [
  {
   "cell_type": "code",
   "execution_count": 2,
   "id": "765a5765",
   "metadata": {},
   "outputs": [
    {
     "name": "stdout",
     "output_type": "stream",
     "text": [
      "Content saved in: 20250819_143830.txt\n"
     ]
    }
   ],
   "source": [
    "import urllib.request\n",
    "import datetime\n",
    "\n",
    "def save_url_content(url):\n",
    "    # URLからテータを取得\n",
    "    response = urllib.request.urlopen(url)\n",
    "\n",
    "    # HTMLデータを読み込み、UTF-8文字列にデコード\n",
    "    html = response.read().decode(\"utf-8\")\n",
    "\n",
    "    # 先頭500文字を取得\n",
    "    text = html[:500]\n",
    "\n",
    "    # 現在の日時を取得\n",
    "    now = datetime.datetime.now()\n",
    "\n",
    "    # ファイル名\n",
    "    file_name = f\"{now.strftime('%Y%m%d_%H%M%S')}.txt\"\n",
    "\n",
    "    # ファイルに保存\n",
    "    with open(file_name, \"w\", encoding=\"utf-8\") as f:\n",
    "        f.writelines(text)\n",
    "\n",
    "    return file_name\n",
    "\n",
    "url = input(\"URLを入力してください: \")\n",
    "file_name = save_url_content(url)\n",
    "print(f\"Content saved in: {file_name}\")"
   ]
  }
 ],
 "metadata": {
  "kernelspec": {
   "display_name": ".venv",
   "language": "python",
   "name": "python3"
  },
  "language_info": {
   "codemirror_mode": {
    "name": "ipython",
    "version": 3
   },
   "file_extension": ".py",
   "mimetype": "text/x-python",
   "name": "python",
   "nbconvert_exporter": "python",
   "pygments_lexer": "ipython3",
   "version": "3.12.10"
  }
 },
 "nbformat": 4,
 "nbformat_minor": 5
}
