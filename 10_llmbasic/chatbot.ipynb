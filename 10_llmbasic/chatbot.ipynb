{
 "cells": [
  {
   "cell_type": "code",
   "execution_count": 3,
   "id": "f854c5b7",
   "metadata": {},
   "outputs": [],
   "source": [
    "# 必要なモジュールをインポート\n",
    "import os\n",
    "from dotenv import load_dotenv\n",
    "from openai import OpenAI\n",
    "from pprint import pprint\n",
    "\n",
    "# 環境変数の取得\n",
    "load_dotenv(\"../.env\")\n",
    "\n",
    "# OpenAI APIクライアントを生成\n",
    "client = OpenAI(api_key=os.environ['API_KEY'])\n",
    "\n",
    "# モデル名\n",
    "MODEL_NAME = \"gpt-4o-mini\""
   ]
  },
  {
   "cell_type": "code",
   "execution_count": 4,
   "id": "be566eb1",
   "metadata": {},
   "outputs": [
    {
     "name": "stdout",
     "output_type": "stream",
     "text": [
      "質問:こんにちは\n",
      "こんにちは！今日はどのようなことをお話ししましょうか？質問:初心者にオススメのプログラミング言語を3つ教えて\n",
      "初心者にオススメのプログラミング言語を3つ紹介します。\n",
      "\n",
      "1. **Python**:\n",
      "   - シンプルで読みやすい文法を持つため、初心者が学びやすい言語です。\n",
      "   - データ分析、機械学習、Web開発など、幅広い分野で使われており、ライブラリも充実しています。\n",
      "\n",
      "2. **JavaScript**:\n",
      "   - 主にWeb開発で使用される言語で、フロントエンドだけでなく、Node.jsを使えばバックエンド開発にも対応できます。\n",
      "   - マルチプラットフォームで、ブラウザ上で動作するため、手軽に学習・実践が可能です。\n",
      "\n",
      "3. **Ruby**:\n",
      "   - 読みやすさと簡潔さを重視した言語で、特にWebアプリケーションの開発に向いています。\n",
      "   - Ruby on Railsというフレームワークを使うことで、短期間で機能的なWebアプリを作成できます。\n",
      "\n",
      "これらの言語は学びやすく、実際のプロジェクトにも活用しやすいため、初心者に適しています。興味のある分野に応じて選んでみてください！質問:1つ目のプログラミング言語の名前は？\n",
      "1つ目のプログラミング言語は **Python** です。Pythonはシンプルで読みやすい文法が特徴で、さまざまな分野で広く使用されています。\n",
      "---ご利用ありがとうございました！---\n"
     ]
    }
   ],
   "source": [
    "# メッセージを格納するリスト\n",
    "messages=[]\n",
    "\n",
    "while(True):\n",
    "    # ユーザーからの質問を受付\n",
    "    message = input(\"メッセージを入力:\")\n",
    "    # 質問が入力されなければ終了\n",
    "    if message.strip()==\"\":\n",
    "        break\n",
    "    print(f\"質問:{message}\")\n",
    "\n",
    "    # メッセージにユーザーからの質問を追加\n",
    "    messages.append({\"role\": \"user\", \"content\": message.strip()})\n",
    "    # やりとりが8を超えたら古いメッセージから削除\n",
    "    if len(messages) > 8:\n",
    "        del_message = messages.pop(0)\n",
    "\n",
    "    # APIへリクエスト\n",
    "    stream = client.chat.completions.create(\n",
    "        model=MODEL_NAME,\n",
    "        messages=messages,\n",
    "        stream=True,\n",
    "    )\n",
    "\n",
    "    # 言語モデルからの回答を表示\n",
    "    response_message = \"\"\n",
    "    for chunk in stream:\n",
    "        if chunk.choices:\n",
    "            next = chunk.choices[0].delta.content\n",
    "            if next is not None:\n",
    "                response_message += next\n",
    "                print(next, end='', flush=True)\n",
    "\n",
    "    # メッセージに言語モデルからの回答を追加\n",
    "    messages.append({\"role\": \"assistant\", \"content\": response_message})\n",
    "\n",
    "print(\"\\n---ご利用ありがとうございました！---\")"
   ]
  }
 ],
 "metadata": {
  "kernelspec": {
   "display_name": ".venv",
   "language": "python",
   "name": "python3"
  },
  "language_info": {
   "codemirror_mode": {
    "name": "ipython",
    "version": 3
   },
   "file_extension": ".py",
   "mimetype": "text/x-python",
   "name": "python",
   "nbconvert_exporter": "python",
   "pygments_lexer": "ipython3",
   "version": "3.12.10"
  }
 },
 "nbformat": 4,
 "nbformat_minor": 5
}
