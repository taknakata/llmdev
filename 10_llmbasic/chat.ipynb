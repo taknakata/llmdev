{
 "cells": [
  {
   "cell_type": "code",
   "execution_count": 3,
   "id": "a18a4aba",
   "metadata": {},
   "outputs": [
    {
     "name": "stdout",
     "output_type": "stream",
     "text": [
      "{'_request_id': 'req_fada2627ca774467b3f1e3b971804934',\n",
      " 'choices': [Choice(finish_reason='stop', index=0, logprobs=None, message=ChatCompletionMessage(content='言語モデルを使う上でのポイントはいくつかあります。以下に主要なポイントを挙げます：\\n\\n1. **明確な問いかけ**: 具体的かつ明確な質問や指示を与えることで、より正確な応答が得られます。曖昧な表現は避けましょう。\\n\\n2. **コンテキストの提供**: 追加の文脈や背景情報を提供することで、モデルがより適切な回答を生成しやすくなります。\\n\\n3. **フォーマットの指定**: 出力の形式（リスト、段落、表など）を指定することで、必要な情報を整理しやすくなります。\\n\\n4. **反応の確認**: モデルの出力を必ず確認し、自分の目的に合っているかどうかを判断しましょう。必要に応じて再質問や修正を行います。\\n\\n5. **倫理的な使用**: 言語モデルを使用する際は、生成した内容が他人に与える影響や倫理的な側面を考慮してください。誤情報の拡散や著作権侵害に注意が必要です。\\n\\n6. **フィードバックの活用**: 生成された情報に対してフィードバックを行い、必要に応じてモデルの応答を改善していきましょう。\\n\\n7. **限界を理解する**: 言語モデルは完璧ではなく、中には誤った情報や不正確な内容が含まれる場合があります。そのため最終的な判断は自分自身で行うことが重要です。\\n\\n以上のポイントを考慮することで、言語モデルをより効果的に活用できるようになるでしょう。', refusal=None, role='assistant', audio=None, function_call=None, tool_calls=None, annotations=[]))],\n",
      " 'created': 1756188709,\n",
      " 'id': 'chatcmpl-C8hCH5Zy8nrzN4gcdRb86hbqDnWRs',\n",
      " 'model': 'gpt-4o-mini-2024-07-18',\n",
      " 'object': 'chat.completion',\n",
      " 'service_tier': 'default',\n",
      " 'system_fingerprint': 'fp_560af6e559',\n",
      " 'usage': CompletionUsage(completion_tokens=399, prompt_tokens=18, total_tokens=417, completion_tokens_details=CompletionTokensDetails(accepted_prediction_tokens=0, audio_tokens=0, reasoning_tokens=0, rejected_prediction_tokens=0), prompt_tokens_details=PromptTokensDetails(audio_tokens=0, cached_tokens=0))}\n",
      "言語モデルを使う上でのポイントはいくつかあります。以下に主要なポイントを挙げます：\n",
      "\n",
      "1. **明確な問いかけ**: 具体的かつ明確な質問や指示を与えることで、より正確な応答が得られます。曖昧な表現は避けましょう。\n",
      "\n",
      "2. **コンテキストの提供**: 追加の文脈や背景情報を提供することで、モデルがより適切な回答を生成しやすくなります。\n",
      "\n",
      "3. **フォーマットの指定**: 出力の形式（リスト、段落、表など）を指定することで、必要な情報を整理しやすくなります。\n",
      "\n",
      "4. **反応の確認**: モデルの出力を必ず確認し、自分の目的に合っているかどうかを判断しましょう。必要に応じて再質問や修正を行います。\n",
      "\n",
      "5. **倫理的な使用**: 言語モデルを使用する際は、生成した内容が他人に与える影響や倫理的な側面を考慮してください。誤情報の拡散や著作権侵害に注意が必要です。\n",
      "\n",
      "6. **フィードバックの活用**: 生成された情報に対してフィードバックを行い、必要に応じてモデルの応答を改善していきましょう。\n",
      "\n",
      "7. **限界を理解する**: 言語モデルは完璧ではなく、中には誤った情報や不正確な内容が含まれる場合があります。そのため最終的な判断は自分自身で行うことが重要です。\n",
      "\n",
      "以上のポイントを考慮することで、言語モデルをより効果的に活用できるようになるでしょう。\n"
     ]
    }
   ],
   "source": [
    "# 必要なモジュールをインポート\n",
    "import os\n",
    "from dotenv import load_dotenv\n",
    "from openai import OpenAI\n",
    "from pprint import pprint\n",
    "\n",
    "# 環境変数の取得\n",
    "load_dotenv(\"../.env\")\n",
    "\n",
    "# OpenAI APIクライアントを生成\n",
    "client = OpenAI(api_key=os.environ['API_KEY'])\n",
    "\n",
    "# モデル名\n",
    "MODEL_NAME = \"gpt-4o-mini\"\n",
    "\n",
    "# メッセージの設定\n",
    "message = \"言語モデルを使う上でのポイントは\"\n",
    "\n",
    "# APIへリクエスト\n",
    "response = client.chat.completions.create(\n",
    "    model=MODEL_NAME,\n",
    "    messages=[\n",
    "        {\"role\": \"user\", \"content\": message},\n",
    "    ]\n",
    ")\n",
    "\n",
    "# レスポンスの表示\n",
    "pprint(vars(response))\n",
    "\n",
    "# 言語モデルからの回答を表示\n",
    "print(response.choices[0].message.content.strip())"
   ]
  },
  {
   "cell_type": "code",
   "execution_count": 5,
   "id": "f02ba077",
   "metadata": {},
   "outputs": [
    {
     "name": "stdout",
     "output_type": "stream",
     "text": [
      "新製品の発売に向けた効果的なマーケティング戦略は、ターゲット市場の理解、クリエイティブなキャンペーンの実施、適切なチャネルの選定が不可欠です。以下は、具体的なステップと戦略です。\n",
      "\n",
      "### 1. 市場調査とターゲティング\n",
      "- **顧客セグメンテーション**: ターゲットとなる顧客セグメントを特定します。年齢、性別、地域、ライフスタイルなどのデモグラフィック要因を考慮することが重要です。\n",
      "- **競合分析**: 同業他社の製品やマーケティング戦略を調査し、自社の強みや差別化ポイントを見つけます。\n",
      "\n",
      "### 2. バリュープロポジションの構築\n",
      "- **ユニークなセリングポイント（USP）**: 新製品が提供する独自の価値を明確にし、顧客に訴求するポイントを洗練させます。\n",
      "\n",
      "### 3. マーケティングミックスの設計\n",
      "- **製品（Product）**: 製品の特徴やデザイン、パッケージングを強調します。\n",
      "- **価格（Price）**: 競争力のある価格設定や割引戦略について検討します。\n",
      "- **流通（Place）**: 製品をどのチャネルで販売するかを決定し、オンライン・オフラインともに最適化します。\n",
      "- **プロモーション（Promotion）**: どのように製品を宣伝するか、広告、PR、インフルエンサーとの提携等を戦略的に計画します。\n",
      "\n",
      "### 4. プロモーション戦略\n",
      "- **ティーザーキャンペーン**: 発売前に製品の一部情報を少しずつ公開し、顧客の興味を引きます。\n",
      "- **ローンチイベント**: オンラインもしくはオフラインでイベントを開催し、メディアやインフルエンサーを招待して製品の認知度を高めます。\n",
      "- **コンテンツマーケティング**: ブログやソーシャルメディアで関連するコンテンツを発信し、自社の専門性をアピールします。\n",
      "\n",
      "### 5. デジタルマーケティング\n",
      "- **ソーシャルメディア広告**: Facebook、Instagram、Twitterなどのプラットフォームでターゲット広告を実施します。\n",
      "- **SEOとSEM**: 自社のウェブサイトを最適化して検索エンジンでの露出を増やします。\n",
      "- **Eメールマーケティング**: 事前に興味を持った顧客に対して、製品情報や特典を提供します。\n",
      "\n",
      "### 6. フィードバックと改善\n",
      "- **アナリティクスを活用**: 発売後は販売データや顧客フィードバックを分析し、戦略を修正・改善します。\n",
      "- **顧客の声を取り入れる**: 購入者からのフィードバックを基に、製品改良や新たなマーケティング施策に活かします。\n",
      "\n",
      "このように、一貫したマーケティング戦略を設計し実行することで、新製品の成功を促進できます。\n"
     ]
    }
   ],
   "source": [
    "# 役割や前提の設定\n",
    "role = \"あなたはマーケティング分野に精通したビジネスコンサルタントです。企業の成長をサポートするために、効果的なマーケティング戦略を提供します。\"\n",
    "\n",
    "# メッセージの設定\n",
    "message = \"新製品の発売に向けた効果的なマーケティング戦略を教えてください。\"\n",
    "\n",
    "# APIへリクエスト\n",
    "response = client.chat.completions.create(\n",
    "    model=MODEL_NAME,\n",
    "    messages=[\n",
    "        {\"role\": \"system\", \"content\": role},\n",
    "        {\"role\": \"user\", \"content\": message},\n",
    "    ],\n",
    ")\n",
    "\n",
    "# 言語モデルからの回答を表示\n",
    "print(response.choices[0].message.content.strip())"
   ]
  },
  {
   "cell_type": "code",
   "execution_count": 9,
   "id": "0b987aa1",
   "metadata": {},
   "outputs": [
    {
     "name": "stdout",
     "output_type": "stream",
     "text": [
      "--------------------\n",
      "もちろんです！日本は多様な文化、歴史、自然の美しさが融合した魅力的な国です。以下にいくつかのポイントを紹介します。\n",
      "\n",
      "### 1. 文化と伝統\n",
      "- **祭り**: 日本各地で行われる伝統的な祭り（例：祇園祭、ねぶた祭り）は、地域の文化や歴史を体験できる素晴らしい機\n",
      "--------------------\n",
      "もちろんです！日本は多様な文化、歴史、自然、美食などが魅力的な国です。以下にいくつかのポイントを紹介します。\n",
      "\n",
      "### 1. 文化と伝統\n",
      "- **祭り**: 日本各地で行われる伝統的な祭り（例：祇園祭、ねぶた祭り）は、地域の文化や歴史を感じることができます。\n",
      "- **茶道**:\n",
      "--------------------\n",
      "もちろんです！日本は多様な文化、歴史、自然、美食などが魅力的な国です。以下にいくつかのポイントを紹介します。\n",
      "\n",
      "### 1. 文化と伝統\n",
      "- **祭り**: 日本各地で行われる伝統的な祭り（例：祇園祭、ねぶた祭り）は、地域の文化や歴史を感じることができます。\n",
      "- **茶道**:\n"
     ]
    }
   ],
   "source": [
    "# 出力の多様性\n",
    "message = \"日本の魅力を紹介して！\"\n",
    "\n",
    "# APIへリクエスト\n",
    "response = client.chat.completions.create(\n",
    "    model=MODEL_NAME,\n",
    "    messages=[\n",
    "        {\"role\": \"user\", \"content\": message},\n",
    "    ],\n",
    "    temperature=0.0,\n",
    "    n = 3, # 3回答を得る\n",
    "    max_completion_tokens = 100 # 出力トークン長を制限\n",
    ")\n",
    "\n",
    "# 結果を表示（複数回答を比較）\n",
    "for choice in response.choices:\n",
    "    print(\"-\" * 20)\n",
    "    print(choice.message.content.strip())"
   ]
  },
  {
   "cell_type": "code",
   "execution_count": 8,
   "id": "4c28a063",
   "metadata": {},
   "outputs": [
    {
     "name": "stdout",
     "output_type": "stream",
     "text": [
      "--------------------\n",
      "もちろんです！日本には多くの魅力があります。以下にいくつか挙げてみます：\n",
      "\n",
      "1. **文化と伝統**: 日本は千年の歴史を持ち、独自の文化や伝統が根付いています。茶道、花道（生け花）、書道などの伝統芸能は、心を落ち着ける美しいアートフォームです。\n",
      "\n",
      "2. **美しい自然**:\n",
      "--------------------\n",
      "もちろんです！日本は豊かな文化、歴史、自然、美食など、多くの魅力を持つ国です。以下にいくつかのポイントをご紹介します。\n",
      "\n",
      "### 1. 歴史と文化\n",
      "- **伝統的な祭り**: 日本各地で行われる祭り（例えば、祇園祭や天神祭）は、独自の風習や美しい衣装を見ることができる貴重な\n",
      "--------------------\n",
      "もちろんです！日本の魅力は多岐にわたりますが、いくつかのポイントを紹介しますね。\n",
      "\n",
      "1. **美しい自然**: 日本には四季があります。春の桜、夏の緑、秋の紅葉、冬の雪景色それぞれが素晴らしく、多様な自然環境が楽しめます。また、富士山や温泉地（例：箱根、草津）なども\n"
     ]
    }
   ],
   "source": [
    "# 出力の多様性\n",
    "message = \"日本の魅力を紹介して！\"\n",
    "\n",
    "# APIへリクエスト\n",
    "response = client.chat.completions.create(\n",
    "    model=MODEL_NAME,\n",
    "    messages=[\n",
    "        {\"role\": \"user\", \"content\": message},\n",
    "    ],\n",
    "    presence_penalty=2.0,\n",
    "    n = 3, # 3回答を得る\n",
    "    max_completion_tokens = 100 # 出力トークン長を制限\n",
    ")\n",
    "\n",
    "# 結果を表示（複数回答を比較）\n",
    "for choice in response.choices:\n",
    "    print(\"-\" * 20)\n",
    "    print(choice.message.content.strip())"
   ]
  },
  {
   "cell_type": "code",
   "execution_count": 10,
   "id": "8389b000",
   "metadata": {},
   "outputs": [
    {
     "name": "stdout",
     "output_type": "stream",
     "text": [
      "tokens_count=2\n",
      "tokens=[95839, 3393]\n"
     ]
    }
   ],
   "source": [
    "import tiktoken\n",
    "from tiktoken.core import Encoding\n",
    "\n",
    "# OpenAI APIの特定のモデルに対応するトークナイザーを取得\n",
    "encoding: Encoding = tiktoken.encoding_for_model(MODEL_NAME) # o200k_base\n",
    "\n",
    "# テキストをトークンIDのリストに変換\n",
    "tokens = encoding.encode(\"こんにちは！\")\n",
    "tokens_count = len(tokens)\n",
    "\n",
    "# トークンの長さとトークンIDを表示\n",
    "print(f\"{tokens_count=}\")\n",
    "print(f\"{tokens=}\")"
   ]
  },
  {
   "cell_type": "code",
   "execution_count": 11,
   "id": "801bd9c6",
   "metadata": {},
   "outputs": [
    {
     "name": "stdout",
     "output_type": "stream",
     "text": [
      "--------------------\n",
      "B:こんにちは、Aさん！最近どう？\n",
      "--------------------\n",
      "B:こんにちは！Aさん、お元気ですか？\n",
      "--------------------\n",
      "B:こんにちは！Aさん、こんにちは！今日はどうしたの？\n"
     ]
    }
   ],
   "source": [
    "# トークンの選択度合い\n",
    "message = \"\"\"\n",
    "AさんとBさんで会話してください。\n",
    "A:あ、Bさんだ。\n",
    "B:\n",
    "\"\"\"\n",
    "\n",
    "# APIへリクエスト\n",
    "response = client.chat.completions.create(\n",
    "    model=MODEL_NAME,\n",
    "    messages=[\n",
    "        {\"role\": \"user\", \"content\": message},\n",
    "    ],\n",
    "    max_tokens=100,\n",
    "    n=3,\n",
    "    logit_bias = {95839:8, 3393:8}\n",
    ")\n",
    "\n",
    "# 結果を表示\n",
    "for choice in response.choices:\n",
    "    print(\"-\" * 20)\n",
    "    print(choice.message.content.strip())"
   ]
  },
  {
   "cell_type": "code",
   "execution_count": 12,
   "id": "61ba2a3a",
   "metadata": {},
   "outputs": [
    {
     "name": "stdout",
     "output_type": "stream",
     "text": [
      "言語モデルを使う上でのポイントはいくつかあります。以下に主な点を挙げます。\n",
      "\n",
      "1. **明確なプロンプトの作成**: モデルに対する指示や質問は明確で具体的であるべきです。曖昧な言葉や不明確なリクエストは、期待する応答を得られない可能性があります。\n",
      "\n",
      "2. **コンテキストの提供**: モデルはコンテキストを考慮して応答を生成します。必要な情報や背景を提供することで、より関連性の高い応答を得られます。\n",
      "\n",
      "3. **反復的な対話**: モデルとの対話は一度きりではなく、反復的に行うことで、より良い結果を得ることができます。最初の応答を基に追加の質問をすることで、深掘りが可能です。\n",
      "\n",
      "4. **出力の評価とフィードバック**: モデルからの応答を評価し、必要に応じてフィードバックを行うことで、次回以降のやり取りが改善されます。\n",
      "\n",
      "5. **倫理的な使用**: 言語モデルはバイアスや誤情報を含む場合があります。生成された内容を批判的に評価し、倫理的に使用することが重要です。\n",
      "\n",
      "6. **用途の理解**: モデルはさまざまな用途に適用できますが、その特性を理解し、適切なタスクに使用することが大切です。例えば、翻訳、要約、対話生成など。\n",
      "\n",
      "7. **限界の認識**: 言語モデルには限界があります。例えば、最新の情報を知らない、正確な情報を保証できない、複雑な論理を正しく処理できないことがあります。\n",
      "\n",
      "これらのポイントを意識することで、言語モデルをより効果的に活用することができるでしょう。"
     ]
    }
   ],
   "source": [
    "# メッセージの設定\n",
    "message = \"言語モデルを使う上でのポイントは\"\n",
    "\n",
    "# APIへリクエスト\n",
    "stream = client.chat.completions.create(\n",
    "    model=MODEL_NAME,\n",
    "    messages=[\n",
    "        {\"role\": \"user\", \"content\": message},\n",
    "    ],\n",
    "    stream=True,\n",
    ")\n",
    "\n",
    "for chunk in stream:\n",
    "    if chunk.choices:\n",
    "        if chunk.choices[0].delta.content is not None:\n",
    "            print(chunk.choices[0].delta.content, end=\"\")"
   ]
  }
 ],
 "metadata": {
  "kernelspec": {
   "display_name": ".venv",
   "language": "python",
   "name": "python3"
  },
  "language_info": {
   "codemirror_mode": {
    "name": "ipython",
    "version": 3
   },
   "file_extension": ".py",
   "mimetype": "text/x-python",
   "name": "python",
   "nbconvert_exporter": "python",
   "pygments_lexer": "ipython3",
   "version": "3.12.10"
  }
 },
 "nbformat": 4,
 "nbformat_minor": 5
}
