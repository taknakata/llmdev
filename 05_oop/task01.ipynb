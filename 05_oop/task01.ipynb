{
 "cells": [
  {
   "cell_type": "code",
   "execution_count": null,
   "id": "db08ecdb",
   "metadata": {},
   "outputs": [
    {
     "name": "stdout",
     "output_type": "stream",
     "text": [
      "1300\n",
      "エラー: 残高不足または無効な金額です\n",
      "エラー: 正しい金額を入力してください\n"
     ]
    }
   ],
   "source": [
    "class BankAccount:\n",
    "    # コンストラクタ\n",
    "    def __init__(self, balance):\n",
    "        self.__balance = balance\n",
    "\n",
    "    # 預け入れメソッド\n",
    "    def deposit(self, amount):\n",
    "        if amount > 0:\n",
    "            self.__balance += amount\n",
    "        else:\n",
    "            print(\"エラー: 正しい金額を入力してください\")\n",
    "\n",
    "    # 引き出しメソッド\n",
    "    def withdraw(self, amount):\n",
    "        if 0 < amount <= self.__balance:\n",
    "            self.__balance -= amount\n",
    "        else:\n",
    "            print(\"エラー: 残高不足または無効な金額です\")\n",
    "\n",
    "    # 現在の残高を返す\n",
    "    def get_balance(self):\n",
    "        return self.__balance\n",
    "\n",
    "# 初期残高1000円で BankAccount クラスのインスタンスを作成\n",
    "my_account = BankAccount(1000)\n",
    "# 500円を預け入れ\n",
    "my_account.deposit(500)\n",
    "# 200円を引き出し\n",
    "my_account.withdraw(200)\n",
    "# 現在の残高を表示（1300 と表示される）\n",
    "print(my_account.get_balance())\n",
    "# 1500円を引き出そうとする（エラー: 残高不足または無効な金額です。）\n",
    "my_account.withdraw(1500)\n",
    "\n",
    "# 預け入れ時に無効な金額（-500など）を指定した場合\n",
    "my_account.deposit(-500)"
   ]
  }
 ],
 "metadata": {
  "kernelspec": {
   "display_name": ".venv",
   "language": "python",
   "name": "python3"
  },
  "language_info": {
   "codemirror_mode": {
    "name": "ipython",
    "version": 3
   },
   "file_extension": ".py",
   "mimetype": "text/x-python",
   "name": "python",
   "nbconvert_exporter": "python",
   "pygments_lexer": "ipython3",
   "version": "3.12.10"
  }
 },
 "nbformat": 4,
 "nbformat_minor": 5
}
