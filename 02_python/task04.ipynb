{
 "cells": [
  {
   "cell_type": "code",
   "execution_count": 14,
   "id": "2f789c5f",
   "metadata": {},
   "outputs": [
    {
     "name": "stdout",
     "output_type": "stream",
     "text": [
      "エラー: 数値を入力してください\n"
     ]
    }
   ],
   "source": [
    "try:\n",
    "    # 1つ目の数\n",
    "    num1 = int(input(\"1つ目の数を入力してください\"))\n",
    "    # 2つ目の数\n",
    "    num2 = int(input(\"2つ目の数を入力してください\"))\n",
    "    result = num1 / num2\n",
    "except ZeroDivisionError:\n",
    "    print(\"エラー: 0で割ることはできません\")\n",
    "except ValueError:\n",
    "    print(\"エラー: 数値を入力してください\")\n",
    "except Exception as e:\n",
    "    # 予期しない例外をキャッチ\n",
    "    print(f\"予期しないエラーが発生しました: {e}\")\n",
    "else:\n",
    "    print(f\"計算結果: {result:.1f}\")"
   ]
  }
 ],
 "metadata": {
  "kernelspec": {
   "display_name": ".venv",
   "language": "python",
   "name": "python3"
  },
  "language_info": {
   "codemirror_mode": {
    "name": "ipython",
    "version": 3
   },
   "file_extension": ".py",
   "mimetype": "text/x-python",
   "name": "python",
   "nbconvert_exporter": "python",
   "pygments_lexer": "ipython3",
   "version": "3.12.10"
  }
 },
 "nbformat": 4,
 "nbformat_minor": 5
}
