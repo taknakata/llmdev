{
 "cells": [
  {
   "cell_type": "code",
   "execution_count": 5,
   "id": "0c2557ee",
   "metadata": {},
   "outputs": [
    {
     "name": "stdout",
     "output_type": "stream",
     "text": [
      "元金を入力してください：1000\n",
      "年利を入力してください：5\n",
      "10年後の金額：1628.89\n"
     ]
    }
   ],
   "source": [
    "# 元金\n",
    "principal = int(input(\"元金を入力してください\"))\n",
    "print(f\"元金を入力してください：{principal}\")\n",
    "\n",
    "# 年利\n",
    "interest_rate = int(input(\"年利を入力してください\"))\n",
    "print(f\"年利を入力してください：{interest_rate}\")\n",
    "\n",
    "# 10年後の金額を計算\n",
    "amount = principal\n",
    "for i in range(1, 11):\n",
    "    amount *= (1 + (interest_rate / 100))\n",
    "\n",
    "print(f\"10年後の金額：{amount:.2f}\")"
   ]
  }
 ],
 "metadata": {
  "kernelspec": {
   "display_name": ".venv",
   "language": "python",
   "name": "python3"
  },
  "language_info": {
   "codemirror_mode": {
    "name": "ipython",
    "version": 3
   },
   "file_extension": ".py",
   "mimetype": "text/x-python",
   "name": "python",
   "nbconvert_exporter": "python",
   "pygments_lexer": "ipython3",
   "version": "3.12.10"
  }
 },
 "nbformat": 4,
 "nbformat_minor": 5
}
