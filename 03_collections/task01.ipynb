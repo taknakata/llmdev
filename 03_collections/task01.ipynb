{
 "cells": [
  {
   "cell_type": "code",
   "execution_count": 4,
   "id": "05966a07",
   "metadata": {},
   "outputs": [
    {
     "name": "stdout",
     "output_type": "stream",
     "text": [
      "平均点: 86.6\n",
      "最高点: 92\n",
      "最低点: 78\n",
      "平均以上の学生数: 3\n"
     ]
    }
   ],
   "source": [
    "# 学生の成績リスト\n",
    "grades = [85, 90, 78, 92, 88]\n",
    "\n",
    "# 平均点\n",
    "sum_score = 0\n",
    "for i in grades:\n",
    "    sum_score += i\n",
    "\n",
    "average = sum_score / len(grades)\n",
    "print(f\"平均点: {average:.1f}\")\n",
    "\n",
    "# 最高点と最低点\n",
    "grades.sort()\n",
    "max_score = grades[-1]\n",
    "min_score = grades[0]\n",
    "print(f\"最高点: {max_score}\")\n",
    "print(f\"最低点: {min_score}\")\n",
    "\n",
    "# 平均以上の学生数\n",
    "count_above_average = len([i for i in grades if i >= average])\n",
    "print(f\"平均以上の学生数: {count_above_average}\")\n"
   ]
  }
 ],
 "metadata": {
  "kernelspec": {
   "display_name": ".venv",
   "language": "python",
   "name": "python3"
  },
  "language_info": {
   "codemirror_mode": {
    "name": "ipython",
    "version": 3
   },
   "file_extension": ".py",
   "mimetype": "text/x-python",
   "name": "python",
   "nbconvert_exporter": "python",
   "pygments_lexer": "ipython3",
   "version": "3.12.10"
  }
 },
 "nbformat": 4,
 "nbformat_minor": 5
}
