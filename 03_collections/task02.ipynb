{
 "cells": [
  {
   "cell_type": "code",
   "execution_count": 8,
   "id": "127c317c",
   "metadata": {},
   "outputs": [
    {
     "name": "stdout",
     "output_type": "stream",
     "text": [
      "英単語を入力してください：dog\n",
      "英単語を入力してください：cat\n",
      "英単語を入力してください：giraffe\n",
      "英単語を入力してください：kangaroo\n",
      "英単語を入力してください：horse\n",
      "英単語を入力してください：bear\n",
      "入力した単語：['bear', 'cat', 'dog', 'giraffe', 'horse', 'kangaroo']\n",
      "aが5個ありました\n",
      "bが1個ありました\n",
      "cが1個ありました\n",
      "dが1個ありました\n",
      "eが3個ありました\n",
      "fが2個ありました\n",
      "gが3個ありました\n",
      "hが1個ありました\n",
      "iが1個ありました\n",
      "kが1個ありました\n",
      "nが1個ありました\n",
      "oが4個ありました\n",
      "rが4個ありました\n",
      "sが1個ありました\n",
      "tが1個ありました\n"
     ]
    }
   ],
   "source": [
    "# 英単語を格納するための空のリスト\n",
    "words = []\n",
    "\n",
    "# アルファベットごとの数を格納する辞書\n",
    "letters_count = {'a':0, 'b':0, 'c':0, 'd':0, 'e':0, 'f':0, 'g':0, 'h':0, 'i':0, 'j':0, 'k':0, 'l':0, 'm':0, 'n':0, 'o':0, 'p':0, 'q':0, 'r':0, 's':0, 't':0, 'u':0, 'v':0, 'w':0, 'x':0, 'y':0, 'z':0}\n",
    "\n",
    "# 入力受付\n",
    "while True:\n",
    "    word = input(\"英単語の入力を受け付けます。未入力で終了します。: \").strip()\n",
    "    if word == \"\":\n",
    "        break\n",
    "    print(f\"英単語を入力してください：{word}\")\n",
    "\n",
    "    words.append(word)\n",
    "\n",
    "    for ch in word:\n",
    "        if ch in letters_count:\n",
    "            letters_count[ch] += 1\n",
    "\n",
    "# 英単語のリストをABC順に並べ替える\n",
    "words.sort()\n",
    "\n",
    "# 英単語のリストを一覧表示する\n",
    "print(f\"入力した単語：{words}\")\n",
    "\n",
    "# アルファベットごとの数を格納する辞書から、数が0より大きい文字について「○が△個ありました」と表示する\n",
    "for ch, count in letters_count.items():\n",
    "    if count > 0:\n",
    "        print(f\"{ch}が{count}個ありました\")\n",
    "\n",
    "\n"
   ]
  }
 ],
 "metadata": {
  "kernelspec": {
   "display_name": ".venv",
   "language": "python",
   "name": "python3"
  },
  "language_info": {
   "codemirror_mode": {
    "name": "ipython",
    "version": 3
   },
   "file_extension": ".py",
   "mimetype": "text/x-python",
   "name": "python",
   "nbconvert_exporter": "python",
   "pygments_lexer": "ipython3",
   "version": "3.12.10"
  }
 },
 "nbformat": 4,
 "nbformat_minor": 5
}
