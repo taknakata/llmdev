{
 "cells": [
  {
   "cell_type": "code",
   "execution_count": 3,
   "id": "3ef0ab79",
   "metadata": {},
   "outputs": [],
   "source": [
    "# 必要なモジュールをインポート\n",
    "import os\n",
    "import json\n",
    "from dotenv import load_dotenv\n",
    "from openai import OpenAI\n",
    "from openai.types.chat import ChatCompletionToolParam\n",
    "from tavily import TavilyClient\n",
    "\n",
    "# 環境変数の取得\n",
    "load_dotenv(\"../.env\")\n",
    "\n",
    "# OpenAI APIクライアントを生成\n",
    "client = OpenAI(api_key=os.environ['API_KEY'])\n",
    "\n",
    "# tavily検索用APIキーの取得\n",
    "TAVILY_API_KEY = os.environ['TAVILY_API_KEY']\n",
    "\n",
    "# モデル名\n",
    "MODEL_NAME = \"gpt-4o-mini\""
   ]
  },
  {
   "cell_type": "code",
   "execution_count": 1,
   "id": "b14d5435",
   "metadata": {},
   "outputs": [],
   "source": [
    "# 検索結果を返す関数の作成\n",
    "def get_search_result(question):\n",
    "    client = TavilyClient(api_key=TAVILY_API_KEY)\n",
    "    response = client.search(question)\n",
    "    return json.dumps({\"result\": response[\"results\"]})\n"
   ]
  },
  {
   "cell_type": "code",
   "execution_count": 4,
   "id": "855b7ab6",
   "metadata": {},
   "outputs": [
    {
     "data": {
      "text/plain": [
       "{'result': [{'url': 'https://www.enjoytokyo.jp/event/list/area1306/',\n",
       "   'title': \"東京駅周辺・丸の内でおすすめのイベント - Let's ENJOY TOKYO\",\n",
       "   'content': '～ 2025/06/01(日) 休館日：月曜日（5月5日は開館）、5月7日 ～ 2025/06/01(日) ～ 2025/06/01(日) 休館日：月曜日（5月5日は開館）、5月7日 ～ 2025/06/03(火) ～ 2025/06/03(火) ～ 2025/06/03(火) 2025/05/29(木) ～ 09/07(日) 伊勢丹 立川店：3/26〜4/15 国際フォーラム：7/14〜7/31 日本橋三越本店：8/6〜8/19 文京グリーンコート：9/1〜9/30 2025/05/21(水) ～ 06/30(月) 熊本が誇る旬の逸品“春スイカ”を首都圏で楽しめる「熊本 春スイカ フェスタ」が開催！ 2025/04/08(火) ～ 07/27(日) 休室日：月曜日、7月8日(火)～13日(日) 2025/05/19(月) ～ 06/08(日) ～ 2025/05/31(土) 2025/06/21(土) ～ 06/22(日) 2025/06/21(土) ～ 06/22(日) 2026/02/07(土) ～ 05/24(日) 休館日：2026/02/16(月)、03/16(月)、04/13(月)、05/11(月) 20世紀北欧デザインの巨匠 スティグ・リンドベリ展 2025/08/20(水) ～ 09/07(日) 20世紀北欧デザインの巨匠 スティグ・リンドベリ展 20世紀北欧デザインの巨匠 スティグ・リンドベリの作品約300点を展示！ 2025/07/26(土) ～ 08/15(金) 2025/06/06(金) ～ 07/06(日) 2025/06/14(土) ～ 07/21(月・祝) 2025/05/31(土) ～ 06/01(日) ～ 2025/05/31(土) 2025/05/13(火) ～ 07/06(日) 休館日は月曜日。開映日時は作品によって異なる。 天空茶会第二十四葉 特別セミナー世界の茶産地を訪ねて セミナー午前の部\\u3000ネパールとの出会い 天空茶会第二十四葉 特別セミナー世界の茶産地を訪ねて セミナー午前の部\\u3000ネパールとの出会い 2025/07/15(火) ～ 08/24(日) 休館日は月曜日。開映日時は作品によって異なる。 2025/07/18(金) ～ 10/05(日) ～ 2025/06/01(日) 2025/06/07(土) ～ 06/15(日) 2025/05/30(金) ～ 06/01(日) 2025/01/18(土) ～ ※上映日・上映時間は公式ウェブサイトよりご確認ください。 2025/05/16(金) ～ 06/29(日) 2025/05/24(土) ～ 06/16(月) Lounge ＆ Dining G／東京マリオットホテル Cafe & Dining ZelkovA／ザ ストリングス 表参道 347 CAFE ＆ LOUNGE',\n",
       "   'score': 0.98593,\n",
       "   'raw_content': None},\n",
       "  {'url': 'https://www.walkerplus.com/event_list/ar0313/sc309880d/',\n",
       "   'title': '東京駅(東京都)周辺のイベント - ウォーカープラス',\n",
       "   'content': '今日 明日 今週末 * エリアを選択 * 目的から探す エリア :   * 東京都 * 千代田区 * 中央区 * 港区 * 新宿区 * 文京区 * 台東区 * 墨田区 * 江東区 * 品川区 * 目黒区 * 大田区 * 世田谷区 * 渋谷区 2025年5月29日(木)～9月7日(日) * 日本橋高島屋S.C. BBQ BEER GARDEN(バーベキュービアガーデン) 2025年4月16日(水)～11月5日(水) 日本橋駅(東京都), 京橋駅(東京都), 茅場町駅(東京都), 宝町駅(東京都), 東京駅(東京都) 日本橋高島屋S.C.本館 * 丸ノ内ホテル アーバンビアテラス2025 2025年6月6日(金)～9月30日(火) 東京都 東京駅(東京都), 大手町駅(東京都), 二重橋前駅(東京都), 日本橋駅(東京都), 三越前駅(東京都) 丸ノ内ホテル 2025年6月1日(日)～8月31日(日) 東京都 東京駅(東京都), 二重橋前駅(東京都), 京橋駅(東京都), 大手町駅(東京都), 有楽町駅(東京都) 2025年8月8日(金)～2026年3月31日(火) 東京都 日比谷駅(東京都), 有楽町駅(東京都), 東京駅(東京都), 京橋駅(東京都) 2025年8月5日(火)～31日(日) 東京都 東京駅(東京都), 二重橋前駅(東京都), 有楽町駅(東京都), 京橋駅(東京都), 銀座一丁目駅(東京都) * BEER TERRACE in（marunouchi）HOUSE 2025 2025年6月20日(金)～9月21日(日) 東京都 東京駅(東京都), 二重橋前駅(東京都), 大手町駅(東京都), 有楽町駅(東京都), 京橋駅(東京都) 2025年7月5日(土)～8月31日(日) 東京都 東京駅(東京都), 二重橋前駅(東京都), 大手町駅(東京都), 日本橋駅(東京都), 京橋駅(東京都) 東京都 二重橋前駅(東京都), 有楽町駅(東京都), 東京駅(東京都), 日比谷駅(東京都) 2025年6月24日(火)～9月21日(日) 東京都 京橋駅(東京都), 宝町駅(東京都), 日本橋駅(東京都), 東京駅(東京都), 銀座一丁目駅(東京都) :   * 東京都 * ワンコとニャンコ Walker * からだにplus Walker',\n",
       "   'score': 0.98304,\n",
       "   'raw_content': None},\n",
       "  {'url': 'https://www.enjoytokyo.jp/event/list/sta200101/its04/',\n",
       "   'title': '今日行ける！東京駅周辺のおすすめイベント',\n",
       "   'content': '東京都\\u3000千代田区 東京ビアホール＆ビアテラス14『TOKYO BEER WAVE』 東京ビアホール＆ビアテラス14『TOKYO BEER WAVE』 東京都\\u3000千代田区 2025/05/29(木) ～ 09/07(日) 東京都\\u3000文京区 伊勢丹 立川店：3/26〜4/15 国際フォーラム：7/14〜7/31 日本橋三越本店：8/6〜8/19 文京グリーンコート：9/1〜9/30 2025/06/13(金) ～ 06/26(木) ～ 2025/06/22(日) 2025/06/14(土) ～ 07/21(月・祝) ～ 2025/06/22(日) ～ 2025/06/22(日) 2025/05/27(火) ～ 09/23(火・祝) 東京都\\u3000港区 2025/05/12(月) ～ 09/07(日) 東京都\\u3000港区 2025/04/18(金) ～ 09/23(火・祝) 2025/01/18(土) ～ ※上映日・上映時間は公式ウェブサイトよりご確認ください。 東京都\\u3000武蔵野市 2025/06/21(土) ～ 08/17(日) 東京都\\u3000武蔵野市 2025/06/06(金) ～ 07/06(日) ※期間中の金曜日、土曜日、日曜日に開催 Lounge ＆ Dining G／東京マリオットホテル 東京都・品川駅 ／ テラスレストラン Cafe & Dining ZelkovA／ザ ストリングス 表参道 東京都・表参道駅 ／ テラスレストラン 東京都・渋谷駅 ／ テラスレストラン 東京都・吉祥寺駅 ／ テラスレストラン 東京都・渋谷駅 ／ テラスレストラン 東京都・六本木一丁目駅 ／ テラスレストラン 東京都・京橋駅 ／ テラスレストラン 東京都・渋谷駅 ／ テラスレストラン 東京都・銀座一丁目駅 ／ テラスレストラン 東京都・表参道駅 ／ テラスレストラン 347 CAFE ＆ LOUNGE 東京都・渋谷駅 ／ テラスレストラン 東京都・神保町駅 ／ テラスレストラン 東京都・渋谷駅 ／ テラスレストラン 神奈川県・みなとみらい駅 ／ テラスレストラン 神奈川県・横浜駅 ／ テラスレストラン 千葉県・船橋駅 ／ テラスレストラン',\n",
       "   'score': 0.97681,\n",
       "   'raw_content': None},\n",
       "  {'url': 'https://marunouchi.jp-kitte.jp/event/eventnews.jsp',\n",
       "   'title': 'イベント＆ニュース｜KITTE丸の内 | JR・丸ノ内線 東京駅に ...',\n",
       "   'content': '# イベント＆ニュース｜ＫＩＴＴＥ丸の内 | JR・丸ノ内線 東京駅に直結したショッピングセンター「キッテ」 ＫＩＴＴＥの夏イベント「ＫＩＴＴＥ座」8月5日(火)～8月31日(日) 5b7357a2ee04d8f4fa54dfbabe2fa789 ## イベント＆ニュース 記事別に見る :   * 記事一覧 * イベント (2) * ニュース (2) * キャンペーン (2) * 東京シティアイ (3) * インターメディアテク (3) * その他 (1) イベント ニュース キャンペーン 東京シティアイ インターメディアテク その他 東京シティアイ #### KATSUSHIKA町工場百貨市 | 開催日時 | 8月22日（金）～8月23日（土）11:00~19:00 | | 場所 | B1F\\u3000東京シティアイパフォーマンスゾーン | 東京シティアイ #### 青森ＰＲ展 | 開催日時 | 8月19日（火）～8月20日（水）11:00~18:00 | | 場所 | B1F\\u3000東京シティアイパフォーマンスゾーン | イベント #### Special EVENT「ＫＩＴＴＥ座\\u3000昭和祭」 | 開催日時 | 2025年8月19日(火) | | 場所 | ＫＩＴＴＥ１Fアトリウム | イベント #### ＫＩＴＴＥ座\\u3000提灯音頭\\u3000～提灯がおどる、夏がはずむ。～ | 開催日時 | 2025年8月5日(火)～2025年8月31日(日) | | 場所 | ＫＩＴＴＥ１Fアトリウム | インターメディアテク #### 特別展示『アヴェス・ヤポニカエ〈11〉 – 鴉は黒いか』 インターメディアテク #### 特別展示『植物顔 – 日本・フィリピンの草木花実写真』 ニュース #### 【平日ランチ限定】キッチンカーの出店について インターメディアテク | 開催日時 | 毎月20日・21日・22日 | | 場所 | ４Ｆエポスカードセンター内\\u3000ポイント発券機 |',\n",
       "   'score': 0.97271,\n",
       "   'raw_content': None},\n",
       "  {'url': 'https://iko-yo.net/events?prefecture_ids%5B%5D=13&tags%5B%5D=%E6%9D%B1%E4%BA%AC%E9%A7%85&term=1',\n",
       "   'title': '東京都 東京駅の 子ども・親子おでかけ 今日のイベント情報 - いこーよ',\n",
       "   'content': '+ 0歳 + 1歳 + 2歳 + 3歳 + 4歳 + 5歳 + 6歳 + 7歳 + 8歳 + 9歳 # 東京都（東京駅）のイベント [ 今日 ]2025年8月26日(火) 要予約 2025年10月5日(日) 要予約 2025年8月1日(金)～12月1日(月) 要予約 東京都中央区八重洲1-5-9八重洲加藤ビルディング 3F（東京VIPラウンジ内） 要予約 東京都中央区八重洲1-5-9八重洲加藤ビルディング 3F（東京VIPラウンジ内） 要予約 東京都中央区八重洲1-5-9八重洲加藤ビルディング3階（東京ＶＩＰラウンジ内） 要予約 2025年10月5日(日) 東京都渋谷区 / 撮影イベント 要予約 完全無料 2025年8月26日(火)、8月29日(金)、8月31日(日) 東京都三鷹市 / 撮影イベント 要予約 完全無料 2025年9月21日(日) | 日 | 月 | 火 | 水 | 木 | 金 | 土 | | 子どもの年齢 | * 0歳 * 1歳 * 2歳 * 3歳 * 4歳 * 5歳 * 6歳 * 7歳 * 8歳 * 9歳 * 10歳 * 11歳 * 12歳 * 乳児 * 幼児 * 小学生 * 中学生・高校生 * 大人 | | 事前予約・応募 | * 要予約 * 予約不要 | | 料金 | * 完全無料 |',\n",
       "   'score': 0.9709,\n",
       "   'raw_content': None}]}"
      ]
     },
     "execution_count": 4,
     "metadata": {},
     "output_type": "execute_result"
    }
   ],
   "source": [
    "# テスト用コード\n",
    "ret = get_search_result(\"東京駅のイベントを教えて\")\n",
    "json.loads(ret)"
   ]
  },
  {
   "cell_type": "code",
   "execution_count": 5,
   "id": "bf09a228",
   "metadata": {},
   "outputs": [],
   "source": [
    "# ツール定義\n",
    "def define_tools():\n",
    "    print(\"------define_tools(ツール定義)------\")\n",
    "    return [\n",
    "        ChatCompletionToolParam({\n",
    "            \"type\": \"function\",\n",
    "            \"function\": {\n",
    "                \"name\": \"get_search_result\",\n",
    "                \"description\": \"最近一ヵ月のイベント開催予定などネット検索が必要な場合に、質問文の検索結果を取得する\",\n",
    "                \"parameters\": {\n",
    "                    \"type\": \"object\",\n",
    "                    \"properties\": {\n",
    "                        \"question\": {\"type\": \"string\", \"description\": \"質問文\"},\n",
    "                    },\n",
    "                    \"required\": [\"question\"],\n",
    "                },\n",
    "            },\n",
    "        })\n",
    "    ]"
   ]
  },
  {
   "cell_type": "code",
   "execution_count": 6,
   "id": "34ab2950",
   "metadata": {},
   "outputs": [],
   "source": [
    "# 言語モデルへの質問を行う関数\n",
    "def ask_question(question, tools):\n",
    "    response = client.chat.completions.create(\n",
    "        model=MODEL_NAME,\n",
    "        messages=[{\"role\": \"user\", \"content\": question}],\n",
    "        tools=tools,\n",
    "        tool_choice=\"auto\",\n",
    "    )\n",
    "    return response"
   ]
  },
  {
   "cell_type": "code",
   "execution_count": 7,
   "id": "2875728e",
   "metadata": {},
   "outputs": [],
   "source": [
    "# ツール呼び出しが必要な場合の処理を行う関数\n",
    "def handle_tool_call(response, question):\n",
    "    # 関数の実行と結果取得\n",
    "    tool = response.choices[0].message.tool_calls[0]\n",
    "    function_name = tool.function.name\n",
    "    arguments = json.loads(tool.function.arguments)\n",
    "    function_response = globals()[function_name](**arguments)\n",
    "\n",
    "    # 関数の実行結果をmessagesに加えて再度言語モデルを呼出\n",
    "    response_after_tool_call = client.chat.completions.create(\n",
    "        model=MODEL_NAME,\n",
    "        messages=[\n",
    "            {\"role\": \"user\", \"content\": question},\n",
    "            response.choices[0].message,\n",
    "            {\n",
    "                \"tool_call_id\": tool.id,\n",
    "                \"role\": \"tool\",\n",
    "                \"content\": function_response,\n",
    "            },\n",
    "        ],\n",
    "    )\n",
    "    return response_after_tool_call"
   ]
  },
  {
   "cell_type": "code",
   "execution_count": 8,
   "id": "8bf9697c",
   "metadata": {},
   "outputs": [],
   "source": [
    "# ユーザーからの質問を処理する関数\n",
    "def process_response(question, tools):\n",
    "    response = ask_question(question, tools)\n",
    "\n",
    "    if response.choices[0].finish_reason == 'tool_calls':\n",
    "        # ツール呼出の場合\n",
    "        final_response = handle_tool_call(response, question)\n",
    "        return final_response.choices[0].message.content.strip()\n",
    "    else:\n",
    "        # 言語モデルが直接回答する場合\n",
    "        return response.choices[0].message.content.strip()"
   ]
  },
  {
   "cell_type": "code",
   "execution_count": 9,
   "id": "f40dcff9",
   "metadata": {},
   "outputs": [
    {
     "name": "stdout",
     "output_type": "stream",
     "text": [
      "------define_tools(ツール定義)------\n",
      "東京都と沖縄県の面積を比較すると、沖縄県の方が広いです。\n",
      "\n",
      "- 東京都の面積は約2,194平方キロメートルです。\n",
      "- 沖縄県の面積は約2,271平方キロメートルです。\n",
      "\n",
      "したがって、広さで言えば沖縄県が東京都よりも広いです。\n"
     ]
    }
   ],
   "source": [
    "tools = define_tools()\n",
    "\n",
    "# 言語モデルが直接回答できる質問\n",
    "question = \"東京都と沖縄県はどちらが広いですか？\"\n",
    "response_message = process_response(question, tools)\n",
    "print(response_message)"
   ]
  },
  {
   "cell_type": "code",
   "execution_count": 10,
   "id": "9a1ac148",
   "metadata": {},
   "outputs": [
    {
     "name": "stdout",
     "output_type": "stream",
     "text": [
      "------define_tools(ツール定義)------\n",
      "最近1ヶ月以内の東京駅でのイベント情報は以下の通りです：\n",
      "\n",
      "1. **[東京駅周辺のイベント一覧 - マイナビニュース](https://www.enjoytokyo.jp/event/list/)**\n",
      "   - **日付**: 2025年6月1日（予定）\n",
      "   - **内容**: 「TOKYO COFFEE FESTIVAL 2025 Spring」、「東京アウトレットウィーク」、「xikers 2025 WORLD TOUR」などが予定されています。\n",
      "\n",
      "2. **[東京駅周辺のイベント - Walkerplus](https://www.walkerplus.com/event_list/ar0313/sc309880d/)**\n",
      "   - **日付**: 2025年5月29日から2025年6月7日\n",
      "   - **内容**: 「女優の早川友里亜によるクリエイター同好会とのコラボイベント」が開催されます。\n",
      "\n",
      "3. **[屋内で楽しむイベント情報 - 楽天トラベル](https://travel.rakuten.co.jp/mytrip/ranking/indoor-spot-tokyo)**\n",
      "   - **内容**: 雨の日や暑い日でも楽しめる屋内イベントとしていくつかの施設が紹介されています。\n",
      "\n",
      "4. **[新宿のイベント情報](https://6museums.tokyo/)**\n",
      "   - **内容**: 新宿周辺の美術館でも常設展示が行われており、東京駅からのアクセスが良好です。\n",
      "\n",
      "5. **[2025年7月までの新発表イベント - JR東日本](https://media.jreast.co.jp/articles/3405)**\n",
      "   - **日付**: 2025年4月14日までのさまざまなイベント予定が発表されています。新しい路線や特別列車が期間限定で運行される予定です。\n",
      "\n",
      "詳細やその他の情報は、各リンクを参照してください。\n"
     ]
    }
   ],
   "source": [
    "tools = define_tools()\n",
    "\n",
    "# ツール呼出が必要な質問\n",
    "question = \"東京駅のイベントについて、最近1ヶ月以内の検索結果を教えてください\"\n",
    "response_message = process_response(question, tools)\n",
    "print(response_message)"
   ]
  },
  {
   "cell_type": "code",
   "execution_count": 11,
   "id": "45fdf850",
   "metadata": {},
   "outputs": [
    {
     "name": "stdout",
     "output_type": "stream",
     "text": [
      "------define_tools(ツール定義)------\n"
     ]
    },
    {
     "data": {
      "text/plain": [
       "'質問:こんにちは'"
      ]
     },
     "metadata": {},
     "output_type": "display_data"
    },
    {
     "name": "stdout",
     "output_type": "stream",
     "text": [
      "こんにちは！今日はどんなことをお手伝いできますか？\n"
     ]
    },
    {
     "data": {
      "text/plain": [
       "'質問:東北6県は？'"
      ]
     },
     "metadata": {},
     "output_type": "display_data"
    },
    {
     "name": "stdout",
     "output_type": "stream",
     "text": [
      "東北地方は、以下の6つの都道府県で構成されています。\n",
      "\n",
      "1. 青森県（あおもりけん）\n",
      "2. 岩手県（いわてけん）\n",
      "3. 宮城県（みやぎけん）\n",
      "4. 秋田県（あきたけん）\n",
      "5. 山形県（やまがたけん）\n",
      "6. 福島県（ふくしまけん）\n",
      "\n",
      "これらの県は日本の東北に位置し、自然の美しさや豊かな文化が特徴です。\n"
     ]
    },
    {
     "data": {
      "text/plain": [
       "'質問:宮城県のお土産について検索した結果を教えて'"
      ]
     },
     "metadata": {},
     "output_type": "display_data"
    },
    {
     "name": "stdout",
     "output_type": "stream",
     "text": [
      "宮城県のお土産についての情報を以下にまとめました。\n",
      "\n",
      "1. **お土産の種類**\n",
      "   - 宮城県は、牛たんやずんだ餅といった名物が有名です。また、地元の特産品やスイーツ、飲料も多くあります。\n",
      "\n",
      "2. **おすすめのお土産**\n",
      "   - **牛たん**: 宮城県を代表する名物。焼き方や味付けにこだわった商品が多彩です。\n",
      "   - **ずんだ餅**: 枝豆を使った餅で、甘さと食感が特徴的です。\n",
      "   - **萩の月**: 宮城の洋菓子で、カスタードクリームを包んだスポンジケーキです。\n",
      "   - **仙台味噌**: 地元産の味噌も人気があり、家庭用や贈答用に喜ばれます。\n",
      "\n",
      "3. **販売情報**\n",
      "   - **量販店や観光地の店舗**: 宮城県内の多くの店舗でお土産を購入できます。仙台駅構内の土産物店も便利です。\n",
      "   - **オンラインショップ**: 一部の名産品は、オンラインで購入することも可能です。\n",
      "\n",
      "4. **関連リンク**\n",
      "   - [宮城県のお土産の情報まとめ](https://atlas-log.com/miyagi-souvenir/)\n",
      "   - [人気のスイーツや特産品のリスト](https://travel.rakuten.co.jp/mytrip/howto/sendai-souvenir)\n",
      "   - [お土産ランキング一覧](https://www.jalan.net/omiyage/040000/)\n",
      "\n",
      "以上が宮城県の主なお土産の情報です。旅行の際の参考にしてください。\n",
      "\n",
      "---ご利用ありがとうございました！---\n"
     ]
    }
   ],
   "source": [
    "# チャットボットへの組み込み\n",
    "tools = define_tools()\n",
    "\n",
    "messages=[]\n",
    "\n",
    "while(True):\n",
    "    # ユーザーからの質問を受付\n",
    "    question = input(\"メッセージを入力:\")\n",
    "    # 質問が入力されなければ終了\n",
    "    if question.strip()==\"\":\n",
    "        break\n",
    "    display(f\"質問:{question}\")\n",
    "\n",
    "    # メッセージにユーザーからの質問を追加\n",
    "    messages.append({\"role\": \"user\", \"content\": question.strip()})\n",
    "    # やりとりが8を超えたら古いメッセージから削除\n",
    "    if len(messages) > 8:\n",
    "        del_message = messages.pop(0)\n",
    "\n",
    "    # 言語モデルに質問\n",
    "    response_message = process_response(question, tools)\n",
    "\n",
    "    # メッセージに言語モデルからの回答を追加\n",
    "    print(response_message, flush=True)\n",
    "    messages.append({\"role\": \"assistant\", \"content\": response_message})\n",
    "\n",
    "print(\"\\n---ご利用ありがとうございました！---\")"
   ]
  }
 ],
 "metadata": {
  "kernelspec": {
   "display_name": ".venv",
   "language": "python",
   "name": "python3"
  },
  "language_info": {
   "codemirror_mode": {
    "name": "ipython",
    "version": 3
   },
   "file_extension": ".py",
   "mimetype": "text/x-python",
   "name": "python",
   "nbconvert_exporter": "python",
   "pygments_lexer": "ipython3",
   "version": "3.12.10"
  }
 },
 "nbformat": 4,
 "nbformat_minor": 5
}
